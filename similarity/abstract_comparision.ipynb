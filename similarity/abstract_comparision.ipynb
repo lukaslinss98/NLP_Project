{
 "cells": [
  {
   "cell_type": "code",
   "execution_count": 25,
   "metadata": {},
   "outputs": [],
   "source": [
    "import spacy\n",
    "from spacy.lang.en.stop_words import STOP_WORDS"
   ]
  },
  {
   "cell_type": "code",
   "execution_count": 1,
   "metadata": {},
   "outputs": [],
   "source": [
    "abs_lukas = \"\"\"\n",
    "With the use of virtual worlds becoming a growing trend, the metaverse is becoming a promising \n",
    "channel for Brands to offer their customers immersive shopping experiences. While virtual interactive\n",
    "worlds are nothing new and have been utilised for purposes such as video games for almost 50 years, \n",
    "an increasing number of brands and platforms are offering open-ended virtual experiences which are \n",
    "marketed under the term metaverse. The meteoric rise of this new virtual channel has prompted many \n",
    "researchers to study this emerging field to clear up the vagueness surrounding the topic. However, \n",
    "at present the academic literature is still struggling to define the boundaries of what is and what \n",
    "is not a metaverse. Meanwhile, other research focuses on the commercial applications of the metaverse,\n",
    "with the intent of translating existing consumer behaviour research on store atmospherics and layouts,\n",
    "from traditional channels to the domain of virtual commerce. While many brands are interested\n",
    "in utilising this new channel, creating them comes with several challenges and uncertainties as many\n",
    "companies lack experience within this field. This thesis tries to shed light on the process associated\n",
    "with building a virtual shopping experience by following the process of developing a white-label shopping mall solution to offer brands easy access to the metaverse through customizable store spaces. The scope of this research included the initial requirements analysis, followed by the implementation, and launch of the solution. Throughout the development process, multiple requirements such as resource management, modular design, and payment integration were identified and implemented. Additionally, various store atmospheric elements were utilised in the design of the user interface. The resulting solution was successfully launched and was able to attract eight customers who leased a store within the mall. Furthermore, the mall was visited by 145 users within the first three weeks following the launch. \n",
    "\"\"\""
   ]
  },
  {
   "cell_type": "code",
   "execution_count": 2,
   "metadata": {},
   "outputs": [],
   "source": [
    "abs_stefan = \"\"\"\n",
    "The aim of this bachelor thesis is to examine whether the corporate IT demand process of Linde \n",
    "plc can be improved by applying the business capability method based on The Open Group \n",
    "Architecture Framework. The selected business capability “Deliver Product” was presented and \n",
    "analysed in Korea as well as Germany by using enterprise architecture artefacts. Subsequently, \n",
    "hypotheses were formulated comparing the findings of the two analyses. The hypotheses were \n",
    "verified in an expert interview. From the results obtained, it could be deduced that the business \n",
    "capability method can support the corporate IT demand process in the assessment and planning \n",
    "of large-scale demands in order to efficiently align the enterprise architecture. The method \n",
    "proved to be a useful approach for presenting the gap architecture and the target architecture of \n",
    "a business capability.\n",
    "\"\"\""
   ]
  },
  {
   "cell_type": "code",
   "execution_count": 20,
   "metadata": {},
   "outputs": [],
   "source": [
    "chapter1 = \"\"\"\n",
    "    “The metaverse is here, and it’s not only transforming how we see the world but how we participate in it“ (Nadella, 2021). Whether one counts themselves as an avid follower of emerging technologies or not, it is safe to say that the term “metaverse” has reached mainstream audiences and has had a polarising effect on consumers and businesses alike. With companies such as Facebook renaming themselves to Meta (cf. Meta, 2021) and seemingly betting the company’s entire future on the success of the metaverse, the interest and hype surrounding this emerging technology has seen a meteoric rise throughout the past years. However, with companies racing to integrate the metaverse into their strategy, there appears to be a considerable amount of scepticism and confusion surrounding the topic. Searching the term on Google, one will quickly find an abundance of articles with titles that go along the lines of “What exactly is the metaverse?”. While consumers seem to be confused by the concept, others even interpret current metaverse developments as a mere fad at best and see it as the newest marketing buzzword (cf. Musk, 2021). The confusion and scepticism surrounding the metaverse seems to stem from the general vagueness about basic facts such as what the metaverse is, what it will offer, and when it will arrive. As there is currently no universally accepted definition of what a metaverse is and the fact that the metaverse is used as an umbrella term combining various technologies such as blockchains, virtual reality, digital twins, artificial intelligence and more, it is currently hard to classify what is and what is not a metaverse as well as what use cases it will have. While these points are criticised, metaverse advocates often argue that they are a normal part of the development of major technological innovations and will often point to the initial vagueness and scepticism surrounding the internet in its early days. No matter what side of the debate one is on, the metaverse promises to provide consumers and companies with new and exciting possibilities in numerous industries. While looking at various use cases, this thesis will mainly explore the metaverses' potential as a platform for creating immersive shopping and advertising experiences. As consumer commerce has increasingly shifted from traditional brick-and-mortar businesses to e-commerce in the past decade, the metaverse offers businesses yet another possibility to reach their customers online, while providing them with a 3D experience that is more akin to a physical store than a two-dimensional website. This thesis will analyse the current state of this field of study and show a practical example of how metaverse shopping experiences can be implemented.\n",
    "\"\"\""
   ]
  },
  {
   "cell_type": "code",
   "execution_count": 15,
   "metadata": {},
   "outputs": [],
   "source": [
    "abs_pa = \"\"\"\n",
    "    As the amount of data grows and competition increases, companies are becoming ever more interested in leveraging external data sources to drive their decision-making and gain a competitive edge. The incorporation of external data is not new to the world of business intelligence and data warehousing, but the drastic increase in available data over the last decade has led to a renewed interest in the topic. While a lot of good ideas and general excitement can be found in articles and online posts, the external data topic remains rather unexplored within academic circles and is often treated as a side topic. This project thesis describes the process of finding, integrating and using external data relevant to the financial services industry. Following this process, this thesis tries to answer how external data can be used alongside internal data to support the decision-making and reporting process, while also examining which types of insights the data can offer and how data needs to be processed in order to be integrated into the data warehouse. Throughout the process, various data sources were examined including those paid and publicly available that offered relevant data sets. These data sets were combined with matching internal data to create multiple reports. Additionally, automated workflows using the Knime Analytical Platform and Python were used to integrate the data in the data warehouse. While a lot of payment relevant data is locked behind paywalls, multiple free and trusted sources could be identified and used. Resulting reports primarily offer descriptive but also predictive insights which give decision makers an outside perspective. Furthermore, achieving a high degree of automation for the integration process was key in minimizing the time spent on data integration and maintaining a high degree of data quality.\n",
    "\"\"\""
   ]
  },
  {
   "cell_type": "code",
   "execution_count": 10,
   "metadata": {},
   "outputs": [],
   "source": [
    "nlp = spacy.load(\"en_core_web_lg\")"
   ]
  },
  {
   "cell_type": "code",
   "execution_count": 31,
   "metadata": {},
   "outputs": [],
   "source": [
    "lukas_ne = [ne.text for ne in doc.ents]\n",
    "stefan_ne = [ne.text for ne in doc2.ents]\n"
   ]
  },
  {
   "cell_type": "code",
   "execution_count": 32,
   "metadata": {},
   "outputs": [
    {
     "data": {
      "text/plain": [
       "['Brands', 'almost 50 years', 'eight', '145', 'the first three weeks']"
      ]
     },
     "execution_count": 32,
     "metadata": {},
     "output_type": "execute_result"
    }
   ],
   "source": [
    "lukas_ne"
   ]
  },
  {
   "cell_type": "code",
   "execution_count": 34,
   "metadata": {},
   "outputs": [],
   "source": [
    "lukas_ne = ' '.join(lukas_ne)\n",
    "stefan_ne = ' '.join(stefan_ne)"
   ]
  },
  {
   "cell_type": "code",
   "execution_count": 35,
   "metadata": {},
   "outputs": [],
   "source": [
    "doc = nlp(lukas_ne)\n",
    "doc2 = nlp(stefan_ne)\n"
   ]
  },
  {
   "cell_type": "code",
   "execution_count": 36,
   "metadata": {},
   "outputs": [
    {
     "data": {
      "text/plain": [
       "-0.002336046578345376"
      ]
     },
     "execution_count": 36,
     "metadata": {},
     "output_type": "execute_result"
    }
   ],
   "source": [
    "doc.similarity(doc2)"
   ]
  }
 ],
 "metadata": {
  "kernelspec": {
   "display_name": "Python 3",
   "language": "python",
   "name": "python3"
  },
  "language_info": {
   "codemirror_mode": {
    "name": "ipython",
    "version": 3
   },
   "file_extension": ".py",
   "mimetype": "text/x-python",
   "name": "python",
   "nbconvert_exporter": "python",
   "pygments_lexer": "ipython3",
   "version": "3.9.6"
  },
  "orig_nbformat": 4
 },
 "nbformat": 4,
 "nbformat_minor": 2
}
